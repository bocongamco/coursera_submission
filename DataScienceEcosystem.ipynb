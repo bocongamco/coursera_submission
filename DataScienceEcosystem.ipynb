{
 "cells": [
  {
   "cell_type": "markdown",
   "id": "aebb0ea0-fce3-4e45-8dbb-14f53ca7309a",
   "metadata": {},
   "source": [
    "# Data Science Tools and Ecosystem"
   ]
  },
  {
   "cell_type": "markdown",
   "id": "57b491f9-2c93-41f1-a279-0675e09b8e9a",
   "metadata": {},
   "source": [
    "In this notebook, Data Science Tools and Ecosystem are summarized."
   ]
  },
  {
   "cell_type": "markdown",
   "id": "6facee8f-c3e0-40bb-bf1d-d7e3b866d648",
   "metadata": {},
   "source": [
    "**Objectives:**\n",
    "- Python\n",
    "- R\n",
    "- Sql"
   ]
  },
  {
   "cell_type": "code",
   "execution_count": null,
   "id": "8b1cc2bf-5c14-477d-aaec-85576c4598b3",
   "metadata": {},
   "outputs": [],
   "source": []
  },
  {
   "cell_type": "markdown",
   "id": "f5f29449-59a5-42be-858f-44d76ba24548",
   "metadata": {},
   "source": [
    "Some of the popular languages that **Data Scientists** use are:\n",
    "1. Python\n",
    "2. R\n",
    "3. Sql"
   ]
  },
  {
   "cell_type": "markdown",
   "id": "83754692-f781-4f22-8f7f-d3ae0b12288f",
   "metadata": {},
   "source": [
    "Some of the commonly used libraries used by **Data Scientists** include:\n",
    "1. Pandas\n",
    "2. Matplotlip \n",
    "3. Numpy"
   ]
  },
  {
   "cell_type": "markdown",
   "id": "48fc7384-e04b-4700-9954-fdc9e1974cb8",
   "metadata": {},
   "source": [
    "| Data Science Tools |\n",
    "| ------------------ |\n",
    "| Jupyter Notebook   | \n",
    "| IBM Watson Studio  |\n",
    "| R Studio           |"
   ]
  },
  {
   "cell_type": "markdown",
   "id": "89bc00cb-b04b-4c5a-ad92-bcd2e83a3cf6",
   "metadata": {},
   "source": [
    "### Below are a few examples of evaluating arithmetic expressions in Python"
   ]
  },
  {
   "cell_type": "code",
   "execution_count": 2,
   "id": "5f6cec2e-0ca4-43c4-91bb-2289d2040c13",
   "metadata": {},
   "outputs": [
    {
     "data": {
      "text/plain": [
       "17"
      ]
     },
     "execution_count": 2,
     "metadata": {},
     "output_type": "execute_result"
    }
   ],
   "source": [
    "#This a simple arithmetic expression to multiply then add integers\n",
    "(3*4)+5"
   ]
  },
  {
   "cell_type": "code",
   "execution_count": 3,
   "id": "940cedb8-9740-45ca-b462-398fc86ab722",
   "metadata": {},
   "outputs": [
    {
     "data": {
      "text/plain": [
       "3.3333333333333335"
      ]
     },
     "execution_count": 3,
     "metadata": {},
     "output_type": "execute_result"
    }
   ],
   "source": [
    "# This will convert 200 minutes to hours by diving by 60.\n",
    "200/60"
   ]
  },
  {
   "cell_type": "markdown",
   "id": "cc6ce285-766c-4b73-9d7c-cd1353366d7a",
   "metadata": {},
   "source": [
    "## Author\n",
    "Nhat Tien Phat Cao"
   ]
  }
 ],
 "metadata": {
  "kernelspec": {
   "display_name": "Python 3 (ipykernel)",
   "language": "python",
   "name": "python3"
  },
  "language_info": {
   "codemirror_mode": {
    "name": "ipython",
    "version": 3
   },
   "file_extension": ".py",
   "mimetype": "text/x-python",
   "name": "python",
   "nbconvert_exporter": "python",
   "pygments_lexer": "ipython3",
   "version": "3.11.7"
  }
 },
 "nbformat": 4,
 "nbformat_minor": 5
}
